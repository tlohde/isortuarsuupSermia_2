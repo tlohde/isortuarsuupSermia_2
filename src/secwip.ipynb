{
 "cells": [
  {
   "cell_type": "code",
   "execution_count": null,
   "id": "3437e711-8baf-41f4-9353-618f658dfef9",
   "metadata": {
    "editable": true,
    "slideshow": {
     "slide_type": ""
    },
    "tags": []
   },
   "outputs": [],
   "source": [
    "import dask\n",
    "from dask.distributed import Client, LocalCluster, Lock\n",
    "import geopandas as gpd\n",
    "import matplotlib.pyplot as plt\n",
    "import utils\n",
    "import importlib\n",
    "from glob import glob\n",
    "import os\n",
    "import xdem\n",
    "import numpy as np\n",
    "import rioxarray as rio\n",
    "from itertools import product\n",
    "import matplotlib.pyplot as plt\n",
    "import numpy as np\n",
    "import xarray as xr\n",
    "import pandas as pd"
   ]
  },
  {
   "cell_type": "code",
   "execution_count": null,
   "id": "8d3cdbb4-45a6-4a5a-8690-fc2330a9ed8d",
   "metadata": {},
   "outputs": [],
   "source": [
    "aoi_gdf = gpd.read_file('../is_elevation_aoi.geojson')\n",
    "aoi = aoi_gdf.geometry[0]"
   ]
  },
  {
   "cell_type": "code",
   "execution_count": null,
   "id": "7cbcb1ee-8853-491e-bb74-3adc244911b0",
   "metadata": {
    "editable": true,
    "slideshow": {
     "slide_type": ""
    },
    "tags": []
   },
   "outputs": [],
   "source": [
    "cluster = LocalCluster()\n",
    "client = Client(cluster)"
   ]
  },
  {
   "cell_type": "code",
   "execution_count": null,
   "id": "b2afb954",
   "metadata": {},
   "outputs": [],
   "source": [
    "client.shutdown()\n",
    "cluster.close()"
   ]
  },
  {
   "cell_type": "code",
   "execution_count": null,
   "id": "487ae7ab-7a96-444c-9efc-fe31a00cb934",
   "metadata": {
    "editable": true,
    "slideshow": {
     "slide_type": ""
    },
    "tags": []
   },
   "outputs": [],
   "source": [
    "_ = importlib.reload(utils)\n",
    "e = utils.Elevation(aoi)"
   ]
  },
  {
   "cell_type": "code",
   "execution_count": null,
   "id": "6b45b84f",
   "metadata": {},
   "outputs": [],
   "source": [
    "e.stack()"
   ]
  },
  {
   "cell_type": "code",
   "execution_count": null,
   "id": "96f77318",
   "metadata": {},
   "outputs": [],
   "source": [
    "import seaborn as sns\n",
    "def plot_stat(df, stat, ax):\n",
    "    # df = get_meta_df(d)\n",
    "    after = f'after_{stat}'\n",
    "    before = f'before_{stat}'\n",
    "    for row in df.iterrows():\n",
    "        # print(row[0])\n",
    "        ax.annotate(\"\",\n",
    "                    xy=(row[1]['to_register_date'], row[1][after]),\n",
    "                    xytext=(row[1]['to_register_date'], row[1][before]),\n",
    "                    arrowprops=dict(arrowstyle='->'))\n",
    "    \n",
    "    minx, maxx = df['to_register_date'].agg(['min','max'])\n",
    "    delta = pd.Timedelta('90d')\n",
    "    ax.set_xlim(minx-delta, maxx+delta)\n",
    "    ax.set_ylim(*df[[after, before]].melt()['value'].agg(['min','max']))\n",
    "    \n",
    "    ax.axhline(0, c='lightgrey', lw=0.5)\n",
    "    ax.axvline(df.reference_date.unique()[0], ls=':', c='k')\n",
    "    ax.set_ylabel(f'{stat} (m)')\n",
    "    for label in ax.get_xticklabels(which='major'):\n",
    "        label.set(rotation=30, horizontalalignment='center')\n",
    "\n",
    "def plot_coreg(df, ax):\n",
    "    # df = get_meta_df(d)\n",
    "    \n",
    "    plot_df = df[['median_after','median_before','nmad_after','nmad_before']].melt()\n",
    "    plot_df['when'] = plot_df['variable'].str.split('_').apply(lambda x: x[1])\n",
    "    plot_df['variable'] = plot_df['variable'].str.split('_').apply(lambda x: x[0])\n",
    "    sns.violinplot(data=plot_df,\n",
    "                   x='variable',\n",
    "                   y='value',\n",
    "                   hue='when',\n",
    "                   palette=sns.palettes.color_palette('colorblind')[-2:],\n",
    "                   hue_order=['before','after'],\n",
    "                   ax=ax)\n",
    "    ax.set_ylabel('metres')\n",
    "    ax.set_xlabel(None)\n",
    "    ax.axhline(0, c='lightgrey', lw=0.5, zorder=0)\n",
    "    sns.move_legend(ax, loc='best', title=None)\n",
    "    "
   ]
  },
  {
   "cell_type": "code",
   "execution_count": null,
   "id": "43833126",
   "metadata": {},
   "outputs": [],
   "source": [
    "from scipy.stats import theilslopes\n",
    "def robust_slope(y, t):\n",
    "    '''\n",
    "    for robust trends using theilslopes\n",
    "    y - input array of variable of concern\n",
    "    t - array of corresponding timestamps\n",
    "        converts timestamps to years since first observation\n",
    "        identify nan values in `y`, return theilslopes for non-nan values\n",
    "    '''\n",
    "    x = (t-t.min()) / pd.Timedelta('365.25D')\n",
    "    idx = np.isnan(y)  # .compute()\n",
    "    # print(idx.shape)\n",
    "    if len(idx) == idx.sum():\n",
    "        return np.stack((np.nan, np.nan, np.nan, np.nan),\n",
    "                        axis=-1)\n",
    "    else:\n",
    "        slope, intercept, low, high = theilslopes(y[~idx], x[~idx])\n",
    "        return np.stack((slope, intercept, low, high),\n",
    "                        axis=-1)\n",
    "\n",
    "\n",
    "def make_robust_trend(ds, inp_core_dim='time'):\n",
    "    '''\n",
    "    robust_slope as ufunc to dask array, dss\n",
    "    this is a lazy operation\n",
    "    --> very helpful SO\n",
    "    https://stackoverflow.com/questions/58719696/\n",
    "    how-to-apply-a-xarray-u-function-over-netcdf-and-return-a-2d-array-multiple-new\n",
    "    /62012973#62012973\n",
    "    --> also helpful:https://stackoverflow.com/questions/71413808/\n",
    "    understanding-xarray-apply-ufunc\n",
    "    --> and this:\n",
    "    https://docs.xarray.dev/en/stable/examples/\n",
    "    apply_ufunc_vectorize_1d.html#apply_ufunc\n",
    "    '''\n",
    "    output = xr.apply_ufunc(robust_slope,\n",
    "                            ds,\n",
    "                            ds[inp_core_dim],\n",
    "                            input_core_dims=[[inp_core_dim],\n",
    "                                             [inp_core_dim]],\n",
    "                            output_core_dims=[['result']],\n",
    "                            exclude_dims=set([inp_core_dim]),\n",
    "                            vectorize=True,\n",
    "                            dask='parallelized',\n",
    "                            output_dtypes=[float],\n",
    "                            dask_gufunc_kwargs={\n",
    "                                'allow_rechunk': True,\n",
    "                                'output_sizes': {'result': 4}\n",
    "                                }\n",
    "                            )\n",
    "    \n",
    "    output['result'] = xr.DataArray(['slope',\n",
    "                                     'intercept',\n",
    "                                     'low_slope',\n",
    "                                     'high_slope'],\n",
    "                                    dims=['result'])\n",
    "    \n",
    "    arrs = []\n",
    "    for i in range(output.shape[-1]):\n",
    "        var = output[:,:,i].result.item()\n",
    "        arrs.append(output[:,:,i].rename(var).drop_vars('result'))\n",
    "        \n",
    "    return xr.merge(arrs)"
   ]
  },
  {
   "cell_type": "code",
   "execution_count": null,
   "id": "c949c53f",
   "metadata": {},
   "outputs": [],
   "source": [
    "downsampled = xr.open_dataset('../data/arcticDEM/coregd/dem_stack.nc', chunks='auto')\n",
    "\n",
    "trends = make_robust_trend(\n",
    "    downsampled['z'].chunk({'time':-1, 'x':500, 'y':500})\n",
    "    ).compute()\n",
    "\n",
    "trends.attrs = {'description': '''\n",
    "                theilslope estimates of surface elevation change\n",
    "                high_slope and low_slope are 0.95 confidence interval\n",
    "                ''',\n",
    "                }\n",
    "\n",
    "# trends.to_netcdf('../data/arcticDEM/coregd/sec_trend.nc')"
   ]
  },
  {
   "cell_type": "code",
   "execution_count": null,
   "id": "93763a5d",
   "metadata": {},
   "outputs": [],
   "source": [
    "fig, ax = plt.subplots()\n",
    "trends['slope'].plot(robust=True,\n",
    "                     cmap='RdBu_r',\n",
    "                     cbar_kwargs={'label':'sec (m/yr)'},\n",
    "                     ax=ax)\n",
    "ax.set_title('surface elevation change')"
   ]
  },
  {
   "cell_type": "code",
   "execution_count": null,
   "id": "81a736a1",
   "metadata": {},
   "outputs": [],
   "source": [
    "# ## plotting failed to coregister DEMs\n",
    "# with rio.open_rasterio(e.ref, chunks='auto') as ref:\n",
    "#     _fillval = ref.attrs['_FillValue']\n",
    "#     ref_tmp = xr.where(ref.squeeze() != _fillval, ref, np.nan)\n",
    "#     ref_tmp = ref_tmp.coarsen({'x':100, 'y':100}, boundary='trim').median()\n",
    "#     for f in list(e.failed.keys()):\n",
    "#         fig, axs = plt.subplots(ncols=2, subplot_kw={'aspect':'equal'})\n",
    "        \n",
    "#         with rio.open_rasterio(f, chunks='auto') as dem:\n",
    "#             _fillval = dem.attrs['_FillValue']\n",
    "#             tmp = xr.where(dem.squeeze() != _fillval, dem, np.nan)\n",
    "#             tmp = tmp.coarsen({'x':100, 'y':100}, boundary='trim').median()\n",
    "            \n",
    "#             tmp.plot(ax=axs[0], vmin=200, vmax=2000, cbar_kwargs={'shrink':0.5})\n",
    "#             axs[0].set_title(os.path.basename(f))\n",
    "            \n",
    "#             ref_tmp.plot(ax=axs[1], vmin=200, vmax=2000, cbar_kwargs={'shrink':0.5})\n",
    "#             axs[1].set_title('reference')\n",
    "            "
   ]
  }
 ],
 "metadata": {
  "kernelspec": {
   "display_name": "Python 3 (ipykernel)",
   "language": "python",
   "name": "python3"
  },
  "language_info": {
   "codemirror_mode": {
    "name": "ipython",
    "version": 3
   },
   "file_extension": ".py",
   "mimetype": "text/x-python",
   "name": "python",
   "nbconvert_exporter": "python",
   "pygments_lexer": "ipython3",
   "version": "3.12.3"
  }
 },
 "nbformat": 4,
 "nbformat_minor": 5
}
